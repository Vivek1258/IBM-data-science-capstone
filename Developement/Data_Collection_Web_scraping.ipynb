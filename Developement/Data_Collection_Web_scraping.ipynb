{
  "nbformat": 4,
  "nbformat_minor": 0,
  "metadata": {
    "colab": {
      "name": "Data_Collection_Web_scraping.ipynb",
      "provenance": [],
      "collapsed_sections": []
    },
    "kernelspec": {
      "name": "python3",
      "display_name": "Python 3"
    },
    "language_info": {
      "name": "python"
    }
  },
  "cells": [
    {
      "cell_type": "markdown",
      "metadata": {
        "id": "TfLlyBeRpda9"
      },
      "source": [
        "# Data Collection Using Web Scraping \n",
        "\n",
        "## To solve this problem we will need the following data :\n",
        "\n",
        "● List of neighborhoods in Pune.\n",
        "\n",
        "● Latitude and Longitudinal coordinates of those neighborhoods.\n",
        "\n",
        "● Venue data for each neighborhood.\n",
        "\n",
        "## Sources\n",
        "● For the list of neighborhoods, I used\n",
        "(https://en.wikipedia.org/wiki/Category:Neighbourhoods_in_Pune)\n",
        "\n",
        "● For Latitude and Longitudinal coordinates: Python Geocoder Package\n",
        "(https://geocoder.readthedocs.io/)\n",
        "\n",
        "● For Venue data: Foursquare API (https://foursquare.com/)\n"
      ]
    },
    {
      "cell_type": "markdown",
      "metadata": {
        "id": "1Zqdv9WsrchF"
      },
      "source": [
        "## Methods to extract data from Sources\n",
        "\n",
        "To extract the data we will use python packages like requests, beautifulsoup and geocoder.\n",
        "\n",
        "We will use Requests and beautifulsoup packages for web\n",
        "scraping(https://en.wikipedia.org/wiki/Category:Neighbourhoods_in_Pune ) to get the list of\n",
        "neighborhoods in Pune and geocoder package to get the latitude and longitude coordinates of\n",
        "each neighborhood.\n",
        "\n",
        "Then we will use Folium to plot these neighborhoods on the map.  \n",
        "\n",
        "After that, we will use the foursquare API to get the venue data of those neighborhoods. Foursquare API will provide many categories of the venue data but  we are particularly interested in the supermarket category in order to help us to solve the business problem."
      ]
    },
    {
      "cell_type": "markdown",
      "metadata": {
        "id": "KOdoIW7KsdJD"
      },
      "source": [
        "## Imports "
      ]
    },
    {
      "cell_type": "code",
      "metadata": {
        "id": "90x7s_uDpPpi"
      },
      "source": [
        "\n",
        "import numpy as np # library to handle data in a vectorized manner\n",
        "\n",
        "import pandas as pd # library for data analsysis\n",
        "pd.set_option(\"display.max_columns\", None)\n",
        "pd.set_option(\"display.max_rows\", None)\n",
        "\n",
        "import json # library to handle JSON files\n",
        "\n",
        "from geopy.geocoders import Nominatim # convert an address into latitude and longitude values\n",
        "!pip install geocoder\n",
        "import geocoder # to get coordinates\n",
        "!pip install requests \n",
        "import requests # library to handle requests\n",
        "from bs4 import BeautifulSoup # library to parse HTML and XML documents\n",
        "\n",
        "from pandas.io.json import json_normalize # tranform JSON file into a pandas dataframe\n",
        "\n",
        "print(\"Libraries imported.\")"
      ],
      "execution_count": null,
      "outputs": []
    },
    {
      "cell_type": "markdown",
      "metadata": {
        "id": "dpIbV8Xssmln"
      },
      "source": [
        "## Collecting the nebourhood data using Requests, BeautifulSoup, and Geocoder labries"
      ]
    },
    {
      "cell_type": "code",
      "metadata": {
        "colab": {
          "base_uri": "https://localhost:8080/",
          "height": 203
        },
        "id": "zPInQBrIse3m",
        "outputId": "5bfb21a0-3f3a-42e6-e3d3-dff1af88539c"
      },
      "source": [
        "\n",
        "data = requests.get(\"https://en.wikipedia.org/wiki/Category:Neighbourhoods_in_Pune\").text\n",
        "# parse data from the html into a beautifulsoup object\n",
        "soup = BeautifulSoup(data, 'html.parser')\n",
        "# create a list to store neighborhood data\n",
        "neighborhood_List = []\n",
        "# append the data into the list\n",
        "for row in soup.find_all(\"div\", class_=\"mw-category\")[0].findAll(\"li\"):\n",
        "    neighborhood_List.append(row.text)\n",
        "\n",
        "# create a new DataFrame from the list\n",
        "Pune_df = pd.DataFrame({\"Neighborhood\": neighborhood_List})\n",
        "\n",
        "Pune_df.tail()"
      ],
      "execution_count": 2,
      "outputs": [
        {
          "output_type": "execute_result",
          "data": {
            "text/html": [
              "<div>\n",
              "<style scoped>\n",
              "    .dataframe tbody tr th:only-of-type {\n",
              "        vertical-align: middle;\n",
              "    }\n",
              "\n",
              "    .dataframe tbody tr th {\n",
              "        vertical-align: top;\n",
              "    }\n",
              "\n",
              "    .dataframe thead th {\n",
              "        text-align: right;\n",
              "    }\n",
              "</style>\n",
              "<table border=\"1\" class=\"dataframe\">\n",
              "  <thead>\n",
              "    <tr style=\"text-align: right;\">\n",
              "      <th></th>\n",
              "      <th>Neighborhood</th>\n",
              "    </tr>\n",
              "  </thead>\n",
              "  <tbody>\n",
              "    <tr>\n",
              "      <th>52</th>\n",
              "      <td>Vimannagar</td>\n",
              "    </tr>\n",
              "    <tr>\n",
              "      <th>53</th>\n",
              "      <td>Vishrantwadi</td>\n",
              "    </tr>\n",
              "    <tr>\n",
              "      <th>54</th>\n",
              "      <td>Wakad</td>\n",
              "    </tr>\n",
              "    <tr>\n",
              "      <th>55</th>\n",
              "      <td>Warje</td>\n",
              "    </tr>\n",
              "    <tr>\n",
              "      <th>56</th>\n",
              "      <td>Yerawada</td>\n",
              "    </tr>\n",
              "  </tbody>\n",
              "</table>\n",
              "</div>"
            ],
            "text/plain": [
              "    Neighborhood\n",
              "52    Vimannagar\n",
              "53  Vishrantwadi\n",
              "54         Wakad\n",
              "55         Warje\n",
              "56      Yerawada"
            ]
          },
          "metadata": {
            "tags": []
          },
          "execution_count": 2
        }
      ]
    },
    {
      "cell_type": "code",
      "metadata": {
        "id": "tvJxqMNxsvRr"
      },
      "source": [
        "\n",
        "# define a function to get coordinates\n",
        "def get_cord(neighborhood):\n",
        " \n",
        "    coords = None\n",
        "    # loop until you get the coordinates\n",
        "    while(coords is None):\n",
        "        g = geocoder.arcgis('{}, Pune, Maharashtra'.format(neighborhood))\n",
        "        coords = g.latlng\n",
        "    return coords"
      ],
      "execution_count": 4,
      "outputs": []
    },
    {
      "cell_type": "code",
      "metadata": {
        "id": "2tBc4PGgtGK7"
      },
      "source": [
        "\n",
        "# create a  list and store the coordinates \n",
        "coords = [ get_cord(neighborhood) for neighborhood in Pune_df[\"Neighborhood\"].tolist() ]"
      ],
      "execution_count": 5,
      "outputs": []
    },
    {
      "cell_type": "code",
      "metadata": {
        "colab": {
          "base_uri": "https://localhost:8080/"
        },
        "id": "psHRh1RCtJ8U",
        "outputId": "cbbe84e2-98d6-46cc-c77d-27ee51d3a0f2"
      },
      "source": [
        "coords[:10]"
      ],
      "execution_count": 6,
      "outputs": [
        {
          "output_type": "execute_result",
          "data": {
            "text/plain": [
              "[[18.516483671884753, 73.85387026191101],\n",
              " [18.563450000000046, 73.81227000000007],\n",
              " [18.576020000000028, 73.77983000000006],\n",
              " [18.548200000000065, 73.77316000000008],\n",
              " [18.50747000000007, 73.78236000000004],\n",
              " [18.509030000000052, 73.87317000000007],\n",
              " [18.579220000000078, 73.74352000000005],\n",
              " [18.516890000000046, 73.85617000000008],\n",
              " [18.51244931570263, 73.85657158825195],\n",
              " [18.515850000000057, 73.84061000000008]]"
            ]
          },
          "metadata": {
            "tags": []
          },
          "execution_count": 6
        }
      ]
    },
    {
      "cell_type": "code",
      "metadata": {
        "id": "6nTjmNo9tWgW"
      },
      "source": [
        "df_coords = pd.DataFrame(coords, columns=['Latitude', 'Longitude'])"
      ],
      "execution_count": 7,
      "outputs": []
    },
    {
      "cell_type": "code",
      "metadata": {
        "colab": {
          "base_uri": "https://localhost:8080/",
          "height": 374
        },
        "id": "_M2yU_1ktYeq",
        "outputId": "683754af-0ce0-40bc-bceb-22e78a9370fe"
      },
      "source": [
        "\n",
        "# merge the coordinates into the original dataframe\n",
        "Pune_df['Latitude'] = df_coords['Latitude']\n",
        "Pune_df['Longitude'] = df_coords['Longitude']\n",
        "\n",
        "# check the neighborhoods and the coordinates\n",
        "print(Pune_df.shape)\n",
        "Pune_df.head(10)"
      ],
      "execution_count": 8,
      "outputs": [
        {
          "output_type": "stream",
          "text": [
            "(55, 3)\n"
          ],
          "name": "stdout"
        },
        {
          "output_type": "execute_result",
          "data": {
            "text/html": [
              "<div>\n",
              "<style scoped>\n",
              "    .dataframe tbody tr th:only-of-type {\n",
              "        vertical-align: middle;\n",
              "    }\n",
              "\n",
              "    .dataframe tbody tr th {\n",
              "        vertical-align: top;\n",
              "    }\n",
              "\n",
              "    .dataframe thead th {\n",
              "        text-align: right;\n",
              "    }\n",
              "</style>\n",
              "<table border=\"1\" class=\"dataframe\">\n",
              "  <thead>\n",
              "    <tr style=\"text-align: right;\">\n",
              "      <th></th>\n",
              "      <th>Neighborhood</th>\n",
              "      <th>Latitude</th>\n",
              "      <th>Longitude</th>\n",
              "    </tr>\n",
              "  </thead>\n",
              "  <tbody>\n",
              "    <tr>\n",
              "      <th>0</th>\n",
              "      <td>Appa Balwant Chowk</td>\n",
              "      <td>18.516484</td>\n",
              "      <td>73.853870</td>\n",
              "    </tr>\n",
              "    <tr>\n",
              "      <th>1</th>\n",
              "      <td>Aundh, Pune</td>\n",
              "      <td>18.563450</td>\n",
              "      <td>73.812270</td>\n",
              "    </tr>\n",
              "    <tr>\n",
              "      <th>2</th>\n",
              "      <td>Balewadi</td>\n",
              "      <td>18.576020</td>\n",
              "      <td>73.779830</td>\n",
              "    </tr>\n",
              "    <tr>\n",
              "      <th>3</th>\n",
              "      <td>Baner</td>\n",
              "      <td>18.548200</td>\n",
              "      <td>73.773160</td>\n",
              "    </tr>\n",
              "    <tr>\n",
              "      <th>4</th>\n",
              "      <td>Bavdhan</td>\n",
              "      <td>18.507470</td>\n",
              "      <td>73.782360</td>\n",
              "    </tr>\n",
              "    <tr>\n",
              "      <th>5</th>\n",
              "      <td>Bhavani Peth, Pune</td>\n",
              "      <td>18.509030</td>\n",
              "      <td>73.873170</td>\n",
              "    </tr>\n",
              "    <tr>\n",
              "      <th>6</th>\n",
              "      <td>Blue Ridge Town Pune</td>\n",
              "      <td>18.579220</td>\n",
              "      <td>73.743520</td>\n",
              "    </tr>\n",
              "    <tr>\n",
              "      <th>7</th>\n",
              "      <td>Budhwar Peth, Pune</td>\n",
              "      <td>18.516890</td>\n",
              "      <td>73.856170</td>\n",
              "    </tr>\n",
              "    <tr>\n",
              "      <th>8</th>\n",
              "      <td>Chakan, Pune</td>\n",
              "      <td>18.512449</td>\n",
              "      <td>73.856572</td>\n",
              "    </tr>\n",
              "    <tr>\n",
              "      <th>9</th>\n",
              "      <td>Deccan Gymkhana</td>\n",
              "      <td>18.515850</td>\n",
              "      <td>73.840610</td>\n",
              "    </tr>\n",
              "  </tbody>\n",
              "</table>\n",
              "</div>"
            ],
            "text/plain": [
              "           Neighborhood   Latitude  Longitude\n",
              "0    Appa Balwant Chowk  18.516484  73.853870\n",
              "1           Aundh, Pune  18.563450  73.812270\n",
              "2              Balewadi  18.576020  73.779830\n",
              "3                 Baner  18.548200  73.773160\n",
              "4               Bavdhan  18.507470  73.782360\n",
              "5    Bhavani Peth, Pune  18.509030  73.873170\n",
              "6  Blue Ridge Town Pune  18.579220  73.743520\n",
              "7    Budhwar Peth, Pune  18.516890  73.856170\n",
              "8          Chakan, Pune  18.512449  73.856572\n",
              "9       Deccan Gymkhana  18.515850  73.840610"
            ]
          },
          "metadata": {
            "tags": []
          },
          "execution_count": 8
        }
      ]
    },
    {
      "cell_type": "code",
      "metadata": {
        "id": "88p1GX31tarl"
      },
      "source": [
        "# save the DataFrame as CSV file\n",
        "Pune_df.to_csv(\"Pune_df.csv\", index=False)"
      ],
      "execution_count": 9,
      "outputs": []
    },
    {
      "cell_type": "markdown",
      "metadata": {
        "id": "8DsWrIecuLod"
      },
      "source": [
        "## Collecting the nebourhood venue data using Foursquare API "
      ]
    },
    {
      "cell_type": "code",
      "metadata": {
        "colab": {
          "base_uri": "https://localhost:8080/"
        },
        "id": "GPCTKpoKtfiG",
        "outputId": "b3e07027-ec5d-432b-bd86-5fd6bc714c26"
      },
      "source": [
        "\n",
        "# define Foursquare Credentials and Version\n",
        "CLIENT_ID = '5HUDVH14DMECWUAFI2MICONBTTDPW1CCL1C4TFGE3FEHEUHJ' # your Foursquare ID\n",
        "CLIENT_SECRET = 'R0WIH5UIW2SADKBUW4B4WMY2QWBBT0Q02IURAXQXVJZMTDIV' # your Foursquare Secret\n",
        "VERSION = '20180605' # Foursquare API version\n",
        "\n",
        "print('Your credentails:')\n",
        "print('CLIENT_ID: ' + CLIENT_ID)\n",
        "print('CLIENT_SECRET:' + CLIENT_SECRET)"
      ],
      "execution_count": 10,
      "outputs": [
        {
          "output_type": "stream",
          "text": [
            "Your credentails:\n",
            "CLIENT_ID: 5HUDVH14DMECWUAFI2MICONBTTDPW1CCL1C4TFGE3FEHEUHJ\n",
            "CLIENT_SECRET:R0WIH5UIW2SADKBUW4B4WMY2QWBBT0Q02IURAXQXVJZMTDIV\n"
          ],
          "name": "stdout"
        }
      ]
    },
    {
      "cell_type": "code",
      "metadata": {
        "id": "7WLIkiI4xv-K"
      },
      "source": [
        "\n",
        "radius = 3000\n",
        "LIMIT = 150\n",
        "\n",
        "venues = []\n",
        "\n",
        "for lat, long, neighborhood in zip(Pune_df['Latitude'], Pune_df['Longitude'], Pune_df['Neighborhood']):\n",
        "    \n",
        "    # create the API request URL\n",
        "    url = \"https://api.foursquare.com/v2/venues/explore?client_id={}&client_secret={}&v={}&ll={},{}&radius={}&limit={}\".format(\n",
        "        CLIENT_ID,\n",
        "        CLIENT_SECRET,\n",
        "        VERSION,\n",
        "        lat,\n",
        "        long,\n",
        "        radius, \n",
        "        LIMIT)\n",
        "    \n",
        "    # make the GET request\n",
        "    results = requests.get(url).json()[\"response\"]['groups'][0]['items']\n",
        "    \n",
        "    # return only relevant information for each nearby venue\n",
        "    for venue in results:\n",
        "        venues.append((\n",
        "            neighborhood,\n",
        "            lat, \n",
        "            long, \n",
        "            venue['venue']['name'], \n",
        "            venue['venue']['location']['lat'], \n",
        "            venue['venue']['location']['lng'],  \n",
        "            venue['venue']['categories'][0]['name']))\n"
      ],
      "execution_count": 11,
      "outputs": []
    },
    {
      "cell_type": "code",
      "metadata": {
        "colab": {
          "base_uri": "https://localhost:8080/"
        },
        "id": "51HlXodEx0uc",
        "outputId": "02ba73d2-ad30-4d57-ae8b-30deb58af639"
      },
      "source": [
        "# convert the venues list into a new DataFrame\n",
        "venues_df = pd.DataFrame(venues)\n",
        "\n",
        "# define the column names\n",
        "venues_df.columns = ['Neighborhood', 'Latitude', 'Longitude', 'VenueName', 'VenueLatitude', 'VenueLongitude', 'VenueCategory']\n",
        "\n",
        "print(venues_df.shape)"
      ],
      "execution_count": 12,
      "outputs": [
        {
          "output_type": "stream",
          "text": [
            "(4313, 7)\n"
          ],
          "name": "stdout"
        }
      ]
    },
    {
      "cell_type": "code",
      "metadata": {
        "colab": {
          "base_uri": "https://localhost:8080/",
          "height": 203
        },
        "id": "82IkPzmmyCPp",
        "outputId": "9efccb93-3486-482e-aa0a-2ce236899e12"
      },
      "source": [
        "venues_df.head()"
      ],
      "execution_count": 13,
      "outputs": [
        {
          "output_type": "execute_result",
          "data": {
            "text/html": [
              "<div>\n",
              "<style scoped>\n",
              "    .dataframe tbody tr th:only-of-type {\n",
              "        vertical-align: middle;\n",
              "    }\n",
              "\n",
              "    .dataframe tbody tr th {\n",
              "        vertical-align: top;\n",
              "    }\n",
              "\n",
              "    .dataframe thead th {\n",
              "        text-align: right;\n",
              "    }\n",
              "</style>\n",
              "<table border=\"1\" class=\"dataframe\">\n",
              "  <thead>\n",
              "    <tr style=\"text-align: right;\">\n",
              "      <th></th>\n",
              "      <th>Neighborhood</th>\n",
              "      <th>Latitude</th>\n",
              "      <th>Longitude</th>\n",
              "      <th>VenueName</th>\n",
              "      <th>VenueLatitude</th>\n",
              "      <th>VenueLongitude</th>\n",
              "      <th>VenueCategory</th>\n",
              "    </tr>\n",
              "  </thead>\n",
              "  <tbody>\n",
              "    <tr>\n",
              "      <th>0</th>\n",
              "      <td>Appa Balwant Chowk</td>\n",
              "      <td>18.516484</td>\n",
              "      <td>73.85387</td>\n",
              "      <td>Sujata Mastani</td>\n",
              "      <td>18.511793</td>\n",
              "      <td>73.852145</td>\n",
              "      <td>Ice Cream Shop</td>\n",
              "    </tr>\n",
              "    <tr>\n",
              "      <th>1</th>\n",
              "      <td>Appa Balwant Chowk</td>\n",
              "      <td>18.516484</td>\n",
              "      <td>73.85387</td>\n",
              "      <td>Lal Mahal</td>\n",
              "      <td>18.518720</td>\n",
              "      <td>73.856556</td>\n",
              "      <td>Historic Site</td>\n",
              "    </tr>\n",
              "    <tr>\n",
              "      <th>2</th>\n",
              "      <td>Appa Balwant Chowk</td>\n",
              "      <td>18.516484</td>\n",
              "      <td>73.85387</td>\n",
              "      <td>Bhagat Tarachand</td>\n",
              "      <td>18.514332</td>\n",
              "      <td>73.851317</td>\n",
              "      <td>Indian Restaurant</td>\n",
              "    </tr>\n",
              "    <tr>\n",
              "      <th>3</th>\n",
              "      <td>Appa Balwant Chowk</td>\n",
              "      <td>18.516484</td>\n",
              "      <td>73.85387</td>\n",
              "      <td>Raja Dinkar Kelkar museum</td>\n",
              "      <td>18.510744</td>\n",
              "      <td>73.854389</td>\n",
              "      <td>History Museum</td>\n",
              "    </tr>\n",
              "    <tr>\n",
              "      <th>4</th>\n",
              "      <td>Appa Balwant Chowk</td>\n",
              "      <td>18.516484</td>\n",
              "      <td>73.85387</td>\n",
              "      <td>Hotel Madhuban</td>\n",
              "      <td>18.519248</td>\n",
              "      <td>73.848688</td>\n",
              "      <td>Tea Room</td>\n",
              "    </tr>\n",
              "  </tbody>\n",
              "</table>\n",
              "</div>"
            ],
            "text/plain": [
              "         Neighborhood   Latitude  Longitude                  VenueName  \\\n",
              "0  Appa Balwant Chowk  18.516484   73.85387             Sujata Mastani   \n",
              "1  Appa Balwant Chowk  18.516484   73.85387                  Lal Mahal   \n",
              "2  Appa Balwant Chowk  18.516484   73.85387           Bhagat Tarachand   \n",
              "3  Appa Balwant Chowk  18.516484   73.85387  Raja Dinkar Kelkar museum   \n",
              "4  Appa Balwant Chowk  18.516484   73.85387             Hotel Madhuban   \n",
              "\n",
              "   VenueLatitude  VenueLongitude      VenueCategory  \n",
              "0      18.511793       73.852145     Ice Cream Shop  \n",
              "1      18.518720       73.856556      Historic Site  \n",
              "2      18.514332       73.851317  Indian Restaurant  \n",
              "3      18.510744       73.854389     History Museum  \n",
              "4      18.519248       73.848688           Tea Room  "
            ]
          },
          "metadata": {
            "tags": []
          },
          "execution_count": 13
        }
      ]
    },
    {
      "cell_type": "code",
      "metadata": {
        "colab": {
          "base_uri": "https://localhost:8080/"
        },
        "id": "L6oKgkBTyNIj",
        "outputId": "8f4402a1-bc8c-4f90-bdfb-63ba822563e2"
      },
      "source": [
        "print('There are {} uniques categories.'.format(len(venues_df['VenueCategory'].unique())))\n"
      ],
      "execution_count": 14,
      "outputs": [
        {
          "output_type": "stream",
          "text": [
            "There are 142 uniques categories.\n"
          ],
          "name": "stdout"
        }
      ]
    },
    {
      "cell_type": "code",
      "metadata": {
        "colab": {
          "base_uri": "https://localhost:8080/"
        },
        "id": "WBqREYY2yPx4",
        "outputId": "a6734eb9-2976-47f2-f3bb-9c454fd90e65"
      },
      "source": [
        "# print out the list of categories\n",
        "venues_df['VenueCategory'].unique()"
      ],
      "execution_count": 15,
      "outputs": [
        {
          "output_type": "execute_result",
          "data": {
            "text/plain": [
              "array(['Ice Cream Shop', 'Historic Site', 'Indian Restaurant',\n",
              "       'History Museum', 'Tea Room', 'Donut Shop', 'Café', 'Juice Bar',\n",
              "       'BBQ Joint', 'South Indian Restaurant', 'Snack Place', 'Bistro',\n",
              "       'Vegetarian / Vegan Restaurant', 'Fast Food Restaurant',\n",
              "       'Sandwich Place', 'Theater', 'Maharashtrian Restaurant', 'Stadium',\n",
              "       'Trail', 'Dessert Shop', 'Coffee Shop', 'Seafood Restaurant',\n",
              "       'Italian Restaurant', 'Food Truck', 'Bakery', 'Frozen Yogurt Shop',\n",
              "       'Gym', 'Bar', 'Supermarket', 'Gym / Fitness Center', 'Hotel',\n",
              "       'Steakhouse', 'Burger Joint', 'Plaza', 'Deli / Bodega',\n",
              "       'Restaurant', 'Sports Bar', 'Lounge', 'General Entertainment',\n",
              "       'Sporting Goods Shop', 'Hotel Bar', 'Theme Park',\n",
              "       'Chinese Restaurant', 'Hookah Bar', 'Gastropub', 'Smoke Shop',\n",
              "       'Pizza Place', 'Shopping Mall', 'Bookstore', 'English Restaurant',\n",
              "       'Mexican Restaurant', 'Chocolate Shop', 'Multiplex',\n",
              "       'Korean Restaurant', 'Jewelry Store', 'Clothing Store',\n",
              "       'Grocery Store', 'Malay Restaurant', 'Brewery', 'Breakfast Spot',\n",
              "       'Electronics Store', 'Cocktail Bar',\n",
              "       'Molecular Gastronomy Restaurant', 'Asian Restaurant',\n",
              "       'Thai Restaurant', 'Train Station', 'Bus Station',\n",
              "       'Middle Eastern Restaurant', 'Mobile Phone Shop', 'Whisky Bar',\n",
              "       'Road', 'Motorcycle Shop', 'French Restaurant',\n",
              "       'Punjabi Restaurant', 'American Restaurant', 'Department Store',\n",
              "       'Diner', 'New American Restaurant', 'Flower Shop', 'Food Court',\n",
              "       'Karaoke Bar', 'Mediterranean Restaurant', 'Pool', 'Lake',\n",
              "       'Racetrack', 'Kebab Restaurant', 'Nightclub', 'Track Stadium',\n",
              "       'IT Services', 'Motel', 'Chaat Place',\n",
              "       'Multicuisine Indian Restaurant', 'Athletics & Sports', 'Pub',\n",
              "       'Stationery Store', 'Parsi Restaurant', 'Garden',\n",
              "       'Other Great Outdoors', 'Food', 'Mountain', 'Arcade',\n",
              "       'Southern / Soul Food Restaurant', 'Convenience Store', 'Park',\n",
              "       'Zoo', 'Paper / Office Supplies Store', 'Bus Stop', 'Market',\n",
              "       'Fried Chicken Joint', 'Dance Studio', 'Indian Chinese Restaurant',\n",
              "       'Other Nightlife', 'Watch Shop', 'Falafel Restaurant',\n",
              "       'Thrift / Vintage Store', 'Gift Shop', 'Casino',\n",
              "       'Furniture / Home Store', 'Resort', 'Jazz Club',\n",
              "       'Brazilian Restaurant', 'Golf Course', 'Organic Grocery',\n",
              "       'Bowling Alley', 'Soccer Field', 'Dumpling Restaurant',\n",
              "       'Yoga Studio', 'Cheese Shop', 'Beach Bar',\n",
              "       'Eastern European Restaurant', 'North Indian Restaurant',\n",
              "       'Dim Sum Restaurant', 'Salon / Barbershop', 'Beer Garden',\n",
              "       'Bed & Breakfast', 'Movie Theater', \"Men's Store\",\n",
              "       'Mughlai Restaurant', 'Hospital', 'Airport Service', 'Platform',\n",
              "       'Museum'], dtype=object)"
            ]
          },
          "metadata": {
            "tags": []
          },
          "execution_count": 15
        }
      ]
    },
    {
      "cell_type": "code",
      "metadata": {
        "id": "P1gPlVAYyk3v"
      },
      "source": [
        "venues_df.to_csv(\"venues_df.csv\")"
      ],
      "execution_count": 16,
      "outputs": []
    }
  ]
}